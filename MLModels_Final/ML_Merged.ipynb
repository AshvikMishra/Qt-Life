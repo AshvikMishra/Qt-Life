{
 "cells": [
  {
   "cell_type": "code",
   "execution_count": 5,
   "metadata": {},
   "outputs": [],
   "source": [
    "import pandas as pd\n",
    "import numpy as np\n",
    "from sklearn.model_selection import train_test_split\n",
    "from sklearn.ensemble import RandomForestRegressor\n",
    "from sklearn.preprocessing import MinMaxScaler\n",
    "from sklearn.metrics import mean_squared_error\n",
    "import tensorflow as tf\n",
    "from tensorflow.keras.models import Sequential\n",
    "from tensorflow.keras.layers import LSTM, Dense\n",
    "import matplotlib.pyplot as plt\n",
    "import os\n"
   ]
  },
  {
   "cell_type": "code",
   "execution_count": null,
   "metadata": {},
   "outputs": [],
   "source": []
  },
  {
   "cell_type": "code",
   "execution_count": 6,
   "metadata": {},
   "outputs": [],
   "source": [
    "# Define the directory where the notebook is located\n",
    "script_dir = os.getcwd()\n",
    "\n",
    "# Load the dataset from the same directory\n",
    "data_path = os.path.join(script_dir, \"student_productivity.csv\")\n",
    "data = pd.read_csv(data_path)\n"
   ]
  },
  {
   "cell_type": "code",
   "execution_count": null,
   "metadata": {},
   "outputs": [],
   "source": [
    "# Convert 'day_of_week' and 'time_of_day' to numerical values\n",
    "data['day_of_week'] = data['day_of_week'].map({\n",
    "    'Monday': 0, 'Tuesday': 1, 'Wednesday': 2, 'Thursday': 3, 'Friday': 4, 'Saturday': 5, 'Sunday': 6\n",
    "})\n",
    "data['time_of_day'] = data['time_of_day'].str.replace(':00', '').astype(int)\n",
    "\n",
    "# Create 4-hour slots\n",
    "def get_time_slot(hour):\n",
    "    if 0 <= hour < 4:\n",
    "        return 0\n",
    "    elif 4 <= hour < 8:\n",
    "        return 1\n",
    "    elif 8 <= hour < 12:\n",
    "        return 2\n",
    "    elif 12 <= hour < 16:\n",
    "        return 3\n",
    "    elif 16 <= hour < 20:\n",
    "        return 4\n",
    "    else:\n",
    "        return 5\n",
    "\n",
    "data['time_slot'] = data['time_of_day'].apply(get_time_slot)\n"
   ]
  },
  {
   "cell_type": "code",
   "execution_count": null,
   "metadata": {},
   "outputs": [],
   "source": [
    "# Split features and target\n",
    "X = data[['day_of_week', 'time_slot']]\n",
    "y = data['productivity']\n",
    "\n",
    "# Split data into training and testing sets\n",
    "X_train, X_test, y_train, y_test = train_test_split(X, y, test_size=0.2, random_state=42)\n"
   ]
  },
  {
   "cell_type": "code",
   "execution_count": null,
   "metadata": {},
   "outputs": [],
   "source": [
    "# Step 1: RandomForest Regressor for Initial Predictions\n",
    "rf_model = RandomForestRegressor(n_estimators=100, random_state=42)\n",
    "rf_model.fit(X_train, y_train)\n",
    "\n",
    "# Predict productivity on the entire dataset\n",
    "data['rf_predicted_productivity'] = rf_model.predict(X)\n"
   ]
  },
  {
   "cell_type": "code",
   "execution_count": null,
   "metadata": {},
   "outputs": [],
   "source": [
    "# Step 2: Preparing Data for LSTM\n",
    "# Normalize the data\n",
    "scaler = MinMaxScaler()\n",
    "scaled_data = scaler.fit_transform(data[['day_of_week', 'time_slot', 'rf_predicted_productivity']])\n",
    "\n",
    "# Reshape for LSTM (samples, time steps, features)\n",
    "sequence_length = 6\n",
    "X_lstm, y_lstm = [], []\n",
    "for i in range(len(scaled_data) - sequence_length):\n",
    "    X_lstm.append(scaled_data[i:i + sequence_length, :2])  # Use day_of_week, time_slot as features\n",
    "    y_lstm.append(scaled_data[i + sequence_length, 2])  # Use rf_predicted_productivity as target\n",
    "\n",
    "X_lstm = np.array(X_lstm)\n",
    "y_lstm = np.array(y_lstm)\n"
   ]
  },
  {
   "cell_type": "code",
   "execution_count": null,
   "metadata": {},
   "outputs": [],
   "source": [
    "# Split data into training and testing sets for LSTM\n",
    "split = int(0.8 * len(X_lstm))\n",
    "X_train_lstm, X_test_lstm = X_lstm[:split], X_lstm[split:]\n",
    "y_train_lstm, y_test_lstm = y_lstm[:split], y_lstm[split:]\n"
   ]
  },
  {
   "cell_type": "code",
   "execution_count": null,
   "metadata": {},
   "outputs": [],
   "source": [
    "# Step 3: Build the LSTM Model\n",
    "lstm_model = Sequential()\n",
    "lstm_model.add(LSTM(units=64, return_sequences=True, input_shape=(sequence_length, 2)))\n",
    "lstm_model.add(LSTM(units=32))\n",
    "lstm_model.add(Dense(1))\n",
    "\n",
    "lstm_model.compile(optimizer='adam', loss='mean_squared_error')\n",
    "\n",
    "# Train the LSTM model\n",
    "lstm_model.fit(X_train_lstm, y_train_lstm, epochs=10, batch_size=32)\n"
   ]
  },
  {
   "cell_type": "code",
   "execution_count": null,
   "metadata": {},
   "outputs": [],
   "source": [
    "# Step 4: Evaluating LSTM Model\n",
    "y_pred_lstm = lstm_model.predict(X_test_lstm)\n",
    "lstm_mse = mean_squared_error(y_test_lstm, y_pred_lstm)\n",
    "print(f'LSTM Model Mean Squared Error: {lstm_mse}')\n"
   ]
  },
  {
   "cell_type": "code",
   "execution_count": null,
   "metadata": {},
   "outputs": [],
   "source": [
    "# Step 5: Predicting Productivity for Entire Dataset Using LSTM\n",
    "data['lstm_predicted_productivity'] = np.nan\n",
    "predictions_lstm = lstm_model.predict(X_lstm)\n",
    "data['lstm_predicted_productivity'].iloc[sequence_length:] = predictions_lstm.flatten()\n",
    "\n",
    "# Save the average productivity predictions\n",
    "output_path = os.path.join(script_dir, \"merged_model_predictions.csv\")\n",
    "data.to_csv(output_path, index=False)\n"
   ]
  },
  {
   "cell_type": "code",
   "execution_count": null,
   "metadata": {},
   "outputs": [],
   "source": [
    "# Step 6: Plot Productivity Predictions (LSTM + RandomForest)\n",
    "plt.figure(figsize=(14, 7))\n",
    "time_labels = ['0-4am', '4-8am', '8-12pm', '12-4pm', '4-8pm', '8pm-12am']\n",
    "for day in range(7):\n",
    "    day_data = data[data['day_of_week'] == day]\n",
    "    plt.plot(day_data['time_slot'] * 4, day_data['lstm_predicted_productivity'], label=f'Day {day}')\n",
    "\n",
    "plt.xticks(ticks=[0, 4, 8, 12, 16, 20], labels=time_labels)\n",
    "plt.xlabel('Time of Day')\n",
    "plt.ylabel('Predicted Productivity')\n",
    "plt.title('Predicted Productivity Throughout the Day (Merged Model)')\n",
    "plt.legend(['Monday', 'Tuesday', 'Wednesday', 'Thursday', 'Friday', 'Saturday', 'Sunday'])\n",
    "plt.grid(True)\n",
    "plt.show()\n"
   ]
  }
 ],
 "metadata": {
  "kernelspec": {
   "display_name": "Python 3",
   "language": "python",
   "name": "python3"
  },
  "language_info": {
   "codemirror_mode": {
    "name": "ipython",
    "version": 3
   },
   "file_extension": ".py",
   "mimetype": "text/x-python",
   "name": "python",
   "nbconvert_exporter": "python",
   "pygments_lexer": "ipython3",
   "version": "3.10.9"
  }
 },
 "nbformat": 4,
 "nbformat_minor": 2
}
