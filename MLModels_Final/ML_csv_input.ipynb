{
 "cells": [
  {
   "cell_type": "code",
   "execution_count": null,
   "id": "2aa70d15-2a9e-4101-8271-8733b5688fef",
   "metadata": {},
   "outputs": [],
   "source": [
    "import pandas as pd\n",
    "import numpy as np\n",
    "import tensorflow as tf\n",
    "from tensorflow.keras.models import Sequential\n",
    "from tensorflow.keras.layers import Dense,LSTM\n",
    "from sklearn.model_selection import train_test_split\n",
    "from sklearn.preprocessing import MinMaxScaler\n",
    "\n",
    "\n",
    "# Load the CSV data\n",
    "data = pd.read_csv(r\"\\MLModels_Final\\Productivity_Test.csv\")\n",
    "\n",
    "# Convert 'hour_slot' to a numerical feature\n",
    "data['hour_slot'] = data['hour_slot'].apply(lambda x: int(x.split('-')[0]))\n",
    "\n",
    "# Normalize the data\n",
    "scaler = MinMaxScaler()\n",
    "scaled_data = scaler.fit_transform(data[['hour_slot', 'productivity_rating']])\n",
    "\n",
    "# Create training and testing sets\n",
    "X_train, X_test, y_train, y_test = train_test_split(scaled_data[:, 0].reshape(-1, 1), scaled_data[:, 1], test_size=0.2)\n",
    "\n",
    "# Create the LSTM model\n",
    "model = Sequential()\n",
    "model.add(LSTM(units=50, return_sequences=True, input_shape=(X_train.shape[1], 1)))\n",
    "model.add(LSTM(units=50))\n",
    "model.add(Dense(units=1))\n",
    "\n",
    "model.compile(optimizer='adam', loss='mean_squared_error')\n",
    "\n",
    "# Train the model\n",
    "model.fit(X_train, y_train, epochs=100,\n",
    " batch_size=32)\n",
    "\n",
    "# Make predictions for the entire dataset\n",
    "predictions = model.predict(scaled_data[:, 0].reshape(-1, 1))\n",
    "predictions = scaler.inverse_transform(np.hstack((scaled_data[:, 0].reshape(-1, 1), predictions)))\n",
    "\n",
    "# Find the most productive hour slot\n",
    "most_productive_hour = data['hour_slot'][predictions[:, 1].argmax()]\n",
    "print(\"Most productive hour slot:\", most_productive_hour)"
   ]
  }
 ],
 "metadata": {
  "kernelspec": {
   "display_name": "Python 3 (ipykernel)",
   "language": "python",
   "name": "python3"
  },
  "language_info": {
   "codemirror_mode": {
    "name": "ipython",
    "version": 3
   },
   "file_extension": ".py",
   "mimetype": "text/x-python",
   "name": "python",
   "nbconvert_exporter": "python",
   "pygments_lexer": "ipython3",
   "version": "3.10.9"
  }
 },
 "nbformat": 4,
 "nbformat_minor": 5
}
