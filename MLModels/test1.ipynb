{
 "cells": [
  {
   "cell_type": "code",
   "execution_count": null,
   "metadata": {},
   "outputs": [],
   "source": [
    "%pip install tensorflow pandas numpy matplotlib"
   ]
  },
  {
   "cell_type": "code",
   "execution_count": 2,
   "metadata": {},
   "outputs": [],
   "source": [
    "import tensorflow as tf\n",
    "import numpy as np\n",
    "import pandas as pd\n",
    "import matplotlib.pyplot as plt\n",
    "from tensorflow.keras.models import Sequential\n",
    "from tensorflow.keras.layers import Dense\n",
    "from tensorflow.keras.optimizers import Adam"
   ]
  },
  {
   "cell_type": "code",
   "execution_count": 3,
   "metadata": {},
   "outputs": [],
   "source": [
    "class SchedulingEnv:\n",
    "    def __init__(self, timetable, productive_hours):\n",
    "        self.timetable = timetable\n",
    "        self.productive_hours = productive_hours\n",
    "        self.state = self.reset()\n",
    "\n",
    "    def reset(self):\n",
    "        self.state = np.zeros(len(self.timetable))\n",
    "        return self.state\n",
    "\n",
    "    def step(self, action):\n",
    "        reward = 0\n",
    "        done = False\n",
    "        if self.timetable[action] == 0:\n",
    "            self.state[action] = 1\n",
    "            reward = 1 if action in self.productive_hours else -1\n",
    "        else:\n",
    "            reward = -1\n",
    "        if np.sum(self.state) == len(self.timetable):\n",
    "            done = True\n",
    "        return self.state, reward, done, {}\n",
    "\n",
    "    def render(self):\n",
    "        print(self.state)\n"
   ]
  },
  {
   "cell_type": "code",
   "execution_count": 4,
   "metadata": {},
   "outputs": [],
   "source": [
    "class DQNAgent:\n",
    "    def __init__(self, state_size, action_size):\n",
    "        self.state_size = state_size\n",
    "        self.action_size = action_size\n",
    "        self.memory = []\n",
    "        self.gamma = 0.95\n",
    "        self.epsilon = 1.0\n",
    "        self.epsilon_decay = 0.995\n",
    "        self.epsilon_min = 0.01\n",
    "        self.learning_rate = 0.001\n",
    "        self.model = self._build_model()\n",
    "\n",
    "    def _build_model(self):\n",
    "        model = Sequential()\n",
    "        model.add(Dense(24, input_dim=self.state_size, activation='relu'))\n",
    "        model.add(Dense(24, activation='relu'))\n",
    "        model.add(Dense(self.action_size, activation='linear'))\n",
    "        model.compile(loss='mse', optimizer=Adam(lr=self.learning_rate))\n",
    "        return model\n",
    "\n",
    "    def remember(self, state, action, reward, next_state, done):\n",
    "        self.memory.append((state, action, reward, next_state, done))\n",
    "\n",
    "    def act(self, state):\n",
    "        if np.random.rand() <= self.epsilon:\n",
    "            return np.random.choice(self.action_size)\n",
    "        act_values = self.model.predict(state)\n",
    "        return np.argmax(act_values[0])\n",
    "\n",
    "    def replay(self, batch_size):\n",
    "        minibatch = np.random.choice(self.memory, batch_size)\n",
    "        for state, action, reward, next_state, done in minibatch:\n",
    "            target = reward\n",
    "            if not done:\n",
    "                target = reward + self.gamma * np.amax(self.model.predict(next_state)[0])\n",
    "            target_f = self.model.predict(state)\n",
    "            target_f[0][action] = target\n",
    "            self.model.fit(state, target_f, epochs=1, verbose=0)\n",
    "        if self.epsilon > self.epsilon_min:\n",
    "            self.epsilon *= self.epsilon_decay\n"
   ]
  },
  {
   "cell_type": "code",
   "execution_count": 6,
   "metadata": {},
   "outputs": [],
   "source": [
    "def replay(self, batch_size):\n",
    "    minibatch = np.array(self.memory)\n",
    "    indices = np.random.choice(len(minibatch), batch_size, replace=False)\n",
    "    minibatch = minibatch[indices]\n",
    "    for state, action, reward, next_state, done in minibatch:\n",
    "        target = reward\n",
    "        if not done:\n",
    "            target = reward + self.gamma * np.amax(self.model.predict(next_state)[0])\n",
    "        target_f = self.model.predict(state)\n",
    "        target_f[0][action] = target\n",
    "        self.model.fit(state, target_f, epochs=1, verbose=0)\n",
    "    if self.epsilon > self.epsilon_min:\n",
    "        self.epsilon *= self.epsilon_decay\n"
   ]
  },
  {
   "cell_type": "code",
   "execution_count": null,
   "metadata": {},
   "outputs": [],
   "source": [
    "state = env.reset()\n",
    "state = np.reshape(state, [1, state_size])\n",
    "for time in range(24):\n",
    "    action = agent.act(state)\n",
    "    next_state, reward, done, _ = env.step(action)\n",
    "    next_state = np.reshape(next_state, [1, state_size])\n",
    "    state = next_state\n",
    "    env.render()\n",
    "    if done:\n",
    "        break\n"
   ]
  },
  {
   "cell_type": "code",
   "execution_count": null,
   "metadata": {},
   "outputs": [],
   "source": [
    "# Initialize variables to store scheduling counts\n",
    "time_slots = 24\n",
    "scheduling_counts = np.zeros(time_slots)\n",
    "\n",
    "# Run multiple episodes to gather data\n",
    "episodes = 1000\n",
    "for e in range(episodes):\n",
    "    state = env.reset()\n",
    "    state = np.reshape(state, [1, state_size])\n",
    "    for time in range(time_slots):\n",
    "        action = agent.act(state)\n",
    "        next_state, reward, done, _ = env.step(action)\n",
    "        next_state = np.reshape(next_state, [1, state_size])\n",
    "        state = next_state\n",
    "        scheduling_counts[action] += 1\n",
    "        if done:\n",
    "            break\n",
    "\n",
    "# Calculate probabilities\n",
    "probabilities = scheduling_counts / episodes\n",
    "\n",
    "# Ensure probabilities are between 0 and 1\n",
    "probabilities = np.clip(probabilities, 0, 1)\n",
    "\n",
    "# Print probabilities with time ranges\n",
    "for hour, prob in enumerate(probabilities):\n",
    "    print(f\"Hour {hour:02d}:00 - {hour:02d}:59: {prob:.2f}\")\n",
    "\n",
    "# Plot probabilities\n",
    "plt.figure(figsize=(10, 6))\n",
    "plt.bar(range(time_slots), probabilities, color='skyblue')\n",
    "plt.xlabel('Hour of the Day')\n",
    "plt.ylabel('Probability of Being Productive')\n",
    "plt.title('Probability of Being Productive at Each Hour')\n",
    "plt.xticks(range(time_slots))\n",
    "plt.show()\n"
   ]
  },
  {
   "cell_type": "code",
   "execution_count": null,
   "metadata": {},
   "outputs": [],
   "source": [
    "# Print time slots with a probability of 1.00\n",
    "for hour, prob in enumerate(probabilities):\n",
    "    if prob == 1.00:\n",
    "        print(f\"Hour {hour:02d}:00 - {hour:02d}:59: {prob:.2f}\")\n"
   ]
  }
 ],
 "metadata": {
  "kernelspec": {
   "display_name": "Python 3",
   "language": "python",
   "name": "python3"
  },
  "language_info": {
   "codemirror_mode": {
    "name": "ipython",
    "version": 3
   },
   "file_extension": ".py",
   "mimetype": "text/x-python",
   "name": "python",
   "nbconvert_exporter": "python",
   "pygments_lexer": "ipython3",
   "version": "3.10.9"
  }
 },
 "nbformat": 4,
 "nbformat_minor": 2
}
